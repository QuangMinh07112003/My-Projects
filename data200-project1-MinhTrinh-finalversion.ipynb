{
 "cells": [
  {
   "cell_type": "markdown",
   "metadata": {},
   "source": [
    "# Data 200: Data Systems for Data Analytics (Spring 2024)\n"
   ]
  },
  {
   "cell_type": "markdown",
   "metadata": {},
   "source": [
    "# Mini-Project 1: Tabular Data Model\n",
    "\n",
    "<font color='red'>**Due Date and Time:** 1:30 pm on Friday, 3/22/2024 </font>\n",
    "---\n",
    "Enter your name in the markdown cell below."
   ]
  },
  {
   "cell_type": "markdown",
   "metadata": {},
   "source": [
    "# Name(s): Minh Trinh"
   ]
  },
  {
   "cell_type": "code",
   "execution_count": 1,
   "metadata": {},
   "outputs": [
    {
     "data": {
      "text/html": [
       "<style>\n",
       "blockquote { background: #AEDE94; }\n",
       "h1 { \n",
       "    padding-top: 25px;\n",
       "    padding-bottom: 25px;\n",
       "    text-align: left; \n",
       "    padding-left: 10px;\n",
       "    background-color: #DDDDDD; \n",
       "    color: black;\n",
       "}\n",
       "h2 { \n",
       "    padding-top: 10px;\n",
       "    padding-bottom: 10px;\n",
       "    text-align: left; \n",
       "    padding-left: 5px;\n",
       "    background-color: #EEEEEE; \n",
       "    color: black;\n",
       "}\n",
       "\n",
       "div.exercise {\n",
       "\tbackground-color: #ffcccc;\n",
       "\tborder-color: #E9967A; \t\n",
       "\tborder-left: 5px solid #800080; \n",
       "\tpadding: 0.5em;\n",
       "}\n",
       "\n",
       "div.exercise-r {\n",
       "\tbackground-color: #fce8e8;\n",
       "\tborder-color: #E9967A; \t\n",
       "\tborder-left: 5px solid #800080; \n",
       "\tpadding: 0.5em;\n",
       "}\n",
       "\n",
       "\n",
       "span.sub-q {\n",
       "\tfont-weight: bold;\n",
       "}\n",
       "div.theme {\n",
       "\tbackground-color: #DDDDDD;\n",
       "\tborder-color: #E9967A; \t\n",
       "\tborder-left: 5px solid #800080; \n",
       "\tpadding: 0.5em;\n",
       "\tfont-size: 18pt;\n",
       "}\n",
       "div.gc { \n",
       "\tbackground-color: #AEDE94;\n",
       "\tborder-color: #E9967A; \t \n",
       "\tborder-left: 5px solid #800080; \n",
       "\tpadding: 0.5em;\n",
       "\tfont-size: 12pt;\n",
       "}\n",
       "p.q1 { \n",
       "    padding-top: 5px;\n",
       "    padding-bottom: 5px;\n",
       "    text-align: left; \n",
       "    padding-left: 5px;\n",
       "    background-color: #EEEEEE; \n",
       "    color: black;\n",
       "}\n",
       "header {\n",
       "   padding-top: 35px;\n",
       "    padding-bottom: 35px;\n",
       "    text-align: left; \n",
       "    padding-left: 10px;\n",
       "    background-color: #DDDDDD; \n",
       "    color: black;\n",
       "}\n",
       "</style>\n",
       "\n"
      ],
      "text/plain": [
       "<IPython.core.display.HTML object>"
      ]
     },
     "execution_count": 1,
     "metadata": {},
     "output_type": "execute_result"
    }
   ],
   "source": [
    "## RUN THIS CELL TO GET THE RIGHT FORMATTING AND TO LOAD NumPy\n",
    "import requests\n",
    "import numpy as np\n",
    "import matplotlib.pyplot as plt\n",
    "from IPython.core.display import HTML\n",
    "styles = requests.get(\"https://raw.githubusercontent.com/Harvard-IACS/2018-CS109A/master/content/styles/cs109.css\").text\n",
    "HTML(styles)"
   ]
  },
  {
   "cell_type": "markdown",
   "metadata": {},
   "source": [
    "# Overview\n",
    "\n",
    "This notebook should be considered a writing assignment every bit as much as a programming assignment--answer the questions clearly and coherently.  In addition, please use comments within the code cells to explain your code. **This mini-project will count as three homework assignments**. \n",
    "\n",
    "Note that there are a number of links to articles throughout the notebook that you will need to read to complete the project.  Given the speed at which data science is evolving, the ability to drive your own learning is paramount!\n",
    "\n",
    "**E-mail me your completed Jupyter notebook**.\n",
    "\n",
    "Before you submit your notebook, make sure everything runs as expected. In particular, select `Kernel → Restart & Run All` from the menu to verify that the notebook runs from start to finish before submitting."
   ]
  },
  {
   "cell_type": "markdown",
   "metadata": {},
   "source": [
    "# Stanford Open Policing Project\n",
    "\n",
    "The [Stanford Open Policing Project](https://openpolicing.stanford.edu/) collects and standardizes data on vehicle and pedestrian stops from law enforcement departments across the United States.  They have gathered over 200 million records from dozens of state and local police departments across the country.  In this project, we will examine a subset of the data from the state of Rhode Island, which is the smallest US state in size.  Please take a moment to go to the Standard Open Policing Project web site and read about the resources that they provide."
   ]
  },
  {
   "cell_type": "markdown",
   "metadata": {},
   "source": [
    "<div class=\"exercise\"><b>Task 1: Loading and Examining Traffic Stop Data</b></div> \n",
    "\n",
    "The `traffic.csv` file in the folder `project1Data` contains the traffic stop data from Rhode Island that you will examine in this project.\n",
    "\n",
    "In the code cell below, write Python code to do the following.<br>\n",
    "\n",
    "1. Import the Pandas library.\n",
    "1. Read in the file `traffic.csv` and assign it to the data frame `traffic`.\n",
    "1. Print the first 5 rows of the data frame and familiarize yourself with the columns.\n",
    "1. Print the last 5 rows of the data frame and familiarize yourself with the columns.\n",
    "1. Print the shape of the data frame."
   ]
  },
  {
   "cell_type": "code",
   "execution_count": 2,
   "metadata": {},
   "outputs": [
    {
     "name": "stdout",
     "output_type": "stream",
     "text": [
      "  state   stop_date stop_time  county_name driver_gender driver_race  \\\n",
      "0    RI  2005-01-04     12:55          NaN             M       White   \n",
      "1    RI  2005-01-23     23:15          NaN             M       White   \n",
      "2    RI  2005-02-17     04:15          NaN             M       White   \n",
      "3    RI  2005-02-20     17:15          NaN             M       White   \n",
      "4    RI  2005-02-24     01:20          NaN             F       White   \n",
      "\n",
      "                    violation_raw  violation  search_conducted search_type  \\\n",
      "0  Equipment/Inspection Violation  Equipment             False         NaN   \n",
      "1                        Speeding   Speeding             False         NaN   \n",
      "2                        Speeding   Speeding             False         NaN   \n",
      "3                Call for Service      Other             False         NaN   \n",
      "4                        Speeding   Speeding             False         NaN   \n",
      "\n",
      "    stop_outcome is_arrested stop_duration  drugs_related_stop district  \n",
      "0       Citation       False      0-15 Min               False  Zone X4  \n",
      "1       Citation       False      0-15 Min               False  Zone K3  \n",
      "2       Citation       False      0-15 Min               False  Zone X4  \n",
      "3  Arrest Driver        True     16-30 Min               False  Zone X1  \n",
      "4       Citation       False      0-15 Min               False  Zone X3  \n",
      "      state   stop_date stop_time  county_name driver_gender driver_race  \\\n",
      "91736    RI  2015-12-31     21:21          NaN             F       Black   \n",
      "91737    RI  2015-12-31     21:59          NaN             F       White   \n",
      "91738    RI  2015-12-31     22:04          NaN             M       White   \n",
      "91739    RI  2015-12-31     22:09          NaN             F    Hispanic   \n",
      "91740    RI  2015-12-31     22:47          NaN             M       White   \n",
      "\n",
      "                        violation_raw            violation  search_conducted  \\\n",
      "91736         Other Traffic Violation     Moving violation             False   \n",
      "91737                        Speeding             Speeding             False   \n",
      "91738         Other Traffic Violation     Moving violation             False   \n",
      "91739  Equipment/Inspection Violation            Equipment             False   \n",
      "91740          Registration Violation  Registration/plates             False   \n",
      "\n",
      "      search_type stop_outcome is_arrested stop_duration  drugs_related_stop  \\\n",
      "91736         NaN     Citation       False      0-15 Min               False   \n",
      "91737         NaN     Citation       False      0-15 Min               False   \n",
      "91738         NaN     Citation       False      0-15 Min               False   \n",
      "91739         NaN      Warning       False      0-15 Min               False   \n",
      "91740         NaN     Citation       False      0-15 Min               False   \n",
      "\n",
      "      district  \n",
      "91736  Zone K2  \n",
      "91737  Zone K3  \n",
      "91738  Zone X3  \n",
      "91739  Zone K3  \n",
      "91740  Zone X4  \n",
      "(91741, 15)\n"
     ]
    }
   ],
   "source": [
    "import pandas as pd\n",
    "mouseLight = pd.read_csv('MouseLight.csv')\n",
    "\n",
    "traffic = pd.read_csv('traffic.csv')\n",
    "print(traffic.head())\n",
    "print(traffic.tail())\n",
    "print(traffic.shape)"
   ]
  },
  {
   "cell_type": "markdown",
   "metadata": {},
   "source": [
    "<div class=\"exercise\"><b>Question 1:</b></div> \n",
    "    \n",
    "Each row of the data frame contains information on a particular traffic stop. Use the information you just printed to answer the following questions in the markdown cell below.\n",
    "\n",
    "1.  What years are covered in the data set? \n",
    "1.  How many traffic stops are included in this data set?"
   ]
  },
  {
   "cell_type": "markdown",
   "metadata": {},
   "source": [
    "1. From year 2005 to 2015\n",
    "2. There are 91741 stops included in this data set"
   ]
  },
  {
   "cell_type": "markdown",
   "metadata": {},
   "source": [
    "<div class=\"exercise\"><b>Task 2: Count Number of Missing Values</b></div> \n",
    "\n",
    "Hopefully you noticed that there were a lot of missing values in the data frame as indicated by the `NaN` values.  We are now interested in determining how many missing values there are in our data set.  We can check this calling the chained-method `.isnull().sum()` of the `traffic` data frame.  Read about the `isnull()` method [here](https://www.datasciencemadesimple.com/check-count-missing-values-pandas-python-2/) and then print out the number of missing values for each column.\n",
    "\n",
    "The output from my solution is:<br>\n",
    "<code>\n",
    "state                     0\n",
    "stop_date                 0\n",
    "stop_time                 0\n",
    "county_name           91741\n",
    "driver_gender          5205\n",
    "driver_race            5202\n",
    "violation_raw          5202\n",
    "violation              5202\n",
    "search_conducted          0\n",
    "search_type           88434\n",
    "stop_outcome           5202\n",
    "is_arrested            5202\n",
    "stop_duration          5202\n",
    "drugs_related_stop        0\n",
    "district                  0\n",
    "dtype: int64\n",
    "</code>"
   ]
  },
  {
   "cell_type": "code",
   "execution_count": 3,
   "metadata": {},
   "outputs": [
    {
     "data": {
      "text/plain": [
       "state                     0\n",
       "stop_date                 0\n",
       "stop_time                 0\n",
       "county_name           91741\n",
       "driver_gender          5205\n",
       "driver_race            5202\n",
       "violation_raw          5202\n",
       "violation              5202\n",
       "search_conducted          0\n",
       "search_type           88434\n",
       "stop_outcome           5202\n",
       "is_arrested            5202\n",
       "stop_duration          5202\n",
       "drugs_related_stop        0\n",
       "district                  0\n",
       "dtype: int64"
      ]
     },
     "execution_count": 3,
     "metadata": {},
     "output_type": "execute_result"
    }
   ],
   "source": [
    "traffic.isnull().sum()"
   ]
  },
  {
   "cell_type": "markdown",
   "metadata": {},
   "source": [
    "<div class=\"exercise\"><b>Question 2:</b></div> \n",
    "\n",
    "Answer the following questions in the markdown cell below.\n",
    "1. How many values are missing in the `driver_gender` column?\n",
    "1. What two columns contain the most number of missing values?\n",
    "1. Compare the number of rows of the data frame with the number of missing values in the `county_name` column.  What do you notice?\n",
    "1. How many values are missing in the `driver_gender` column?"
   ]
  },
  {
   "cell_type": "markdown",
   "metadata": {},
   "source": [
    "1. There are 5205 missing values\n",
    "2. country_name and search_type\n",
    "3. Number of rows of data frame is equal to number of missing values in the county_name column\n",
    "4. There are 5205 missing values"
   ]
  },
  {
   "cell_type": "markdown",
   "metadata": {},
   "source": [
    "# Data Frame Mutations\n",
    "\n",
    "It is common for a data frame to contain columns and rows that are not useful to our analysis.  It can be beneficial to drop such columns and rows to make it easier to focus on the remaining data."
   ]
  },
  {
   "cell_type": "markdown",
   "metadata": {},
   "source": [
    "<div class=\"exercise\"><b>Task 3: Drop Unneeded Columns</b></div> \n",
    "\n",
    "Hopefully you observed that the `county_name` column only contains missing values, so there is not reason to keep it.  Furthermore, since our data only focuses on the state of Rhode Island, there is no reason to keep the `state` column either.\n",
    "\n",
    "In the code cell below, drop both the `county_name` and `state` columns from the `traffic` data frame.  Please drop these columns *in place* so that they are removed from the `traffic` data frame."
   ]
  },
  {
   "cell_type": "code",
   "execution_count": 4,
   "metadata": {},
   "outputs": [
    {
     "data": {
      "text/html": [
       "<div>\n",
       "<style scoped>\n",
       "    .dataframe tbody tr th:only-of-type {\n",
       "        vertical-align: middle;\n",
       "    }\n",
       "\n",
       "    .dataframe tbody tr th {\n",
       "        vertical-align: top;\n",
       "    }\n",
       "\n",
       "    .dataframe thead th {\n",
       "        text-align: right;\n",
       "    }\n",
       "</style>\n",
       "<table border=\"1\" class=\"dataframe\">\n",
       "  <thead>\n",
       "    <tr style=\"text-align: right;\">\n",
       "      <th></th>\n",
       "      <th>stop_date</th>\n",
       "      <th>stop_time</th>\n",
       "      <th>driver_gender</th>\n",
       "      <th>driver_race</th>\n",
       "      <th>violation_raw</th>\n",
       "      <th>violation</th>\n",
       "      <th>search_conducted</th>\n",
       "      <th>search_type</th>\n",
       "      <th>stop_outcome</th>\n",
       "      <th>is_arrested</th>\n",
       "      <th>stop_duration</th>\n",
       "      <th>drugs_related_stop</th>\n",
       "      <th>district</th>\n",
       "    </tr>\n",
       "  </thead>\n",
       "  <tbody>\n",
       "    <tr>\n",
       "      <th>0</th>\n",
       "      <td>2005-01-04</td>\n",
       "      <td>12:55</td>\n",
       "      <td>M</td>\n",
       "      <td>White</td>\n",
       "      <td>Equipment/Inspection Violation</td>\n",
       "      <td>Equipment</td>\n",
       "      <td>False</td>\n",
       "      <td>NaN</td>\n",
       "      <td>Citation</td>\n",
       "      <td>False</td>\n",
       "      <td>0-15 Min</td>\n",
       "      <td>False</td>\n",
       "      <td>Zone X4</td>\n",
       "    </tr>\n",
       "    <tr>\n",
       "      <th>1</th>\n",
       "      <td>2005-01-23</td>\n",
       "      <td>23:15</td>\n",
       "      <td>M</td>\n",
       "      <td>White</td>\n",
       "      <td>Speeding</td>\n",
       "      <td>Speeding</td>\n",
       "      <td>False</td>\n",
       "      <td>NaN</td>\n",
       "      <td>Citation</td>\n",
       "      <td>False</td>\n",
       "      <td>0-15 Min</td>\n",
       "      <td>False</td>\n",
       "      <td>Zone K3</td>\n",
       "    </tr>\n",
       "    <tr>\n",
       "      <th>2</th>\n",
       "      <td>2005-02-17</td>\n",
       "      <td>04:15</td>\n",
       "      <td>M</td>\n",
       "      <td>White</td>\n",
       "      <td>Speeding</td>\n",
       "      <td>Speeding</td>\n",
       "      <td>False</td>\n",
       "      <td>NaN</td>\n",
       "      <td>Citation</td>\n",
       "      <td>False</td>\n",
       "      <td>0-15 Min</td>\n",
       "      <td>False</td>\n",
       "      <td>Zone X4</td>\n",
       "    </tr>\n",
       "    <tr>\n",
       "      <th>3</th>\n",
       "      <td>2005-02-20</td>\n",
       "      <td>17:15</td>\n",
       "      <td>M</td>\n",
       "      <td>White</td>\n",
       "      <td>Call for Service</td>\n",
       "      <td>Other</td>\n",
       "      <td>False</td>\n",
       "      <td>NaN</td>\n",
       "      <td>Arrest Driver</td>\n",
       "      <td>True</td>\n",
       "      <td>16-30 Min</td>\n",
       "      <td>False</td>\n",
       "      <td>Zone X1</td>\n",
       "    </tr>\n",
       "    <tr>\n",
       "      <th>4</th>\n",
       "      <td>2005-02-24</td>\n",
       "      <td>01:20</td>\n",
       "      <td>F</td>\n",
       "      <td>White</td>\n",
       "      <td>Speeding</td>\n",
       "      <td>Speeding</td>\n",
       "      <td>False</td>\n",
       "      <td>NaN</td>\n",
       "      <td>Citation</td>\n",
       "      <td>False</td>\n",
       "      <td>0-15 Min</td>\n",
       "      <td>False</td>\n",
       "      <td>Zone X3</td>\n",
       "    </tr>\n",
       "  </tbody>\n",
       "</table>\n",
       "</div>"
      ],
      "text/plain": [
       "    stop_date stop_time driver_gender driver_race  \\\n",
       "0  2005-01-04     12:55             M       White   \n",
       "1  2005-01-23     23:15             M       White   \n",
       "2  2005-02-17     04:15             M       White   \n",
       "3  2005-02-20     17:15             M       White   \n",
       "4  2005-02-24     01:20             F       White   \n",
       "\n",
       "                    violation_raw  violation  search_conducted search_type  \\\n",
       "0  Equipment/Inspection Violation  Equipment             False         NaN   \n",
       "1                        Speeding   Speeding             False         NaN   \n",
       "2                        Speeding   Speeding             False         NaN   \n",
       "3                Call for Service      Other             False         NaN   \n",
       "4                        Speeding   Speeding             False         NaN   \n",
       "\n",
       "    stop_outcome is_arrested stop_duration  drugs_related_stop district  \n",
       "0       Citation       False      0-15 Min               False  Zone X4  \n",
       "1       Citation       False      0-15 Min               False  Zone K3  \n",
       "2       Citation       False      0-15 Min               False  Zone X4  \n",
       "3  Arrest Driver        True     16-30 Min               False  Zone X1  \n",
       "4       Citation       False      0-15 Min               False  Zone X3  "
      ]
     },
     "execution_count": 4,
     "metadata": {},
     "output_type": "execute_result"
    }
   ],
   "source": [
    "traffic.pop('county_name')\n",
    "traffic.pop('state')\n",
    "traffic.head()"
   ]
  },
  {
   "cell_type": "markdown",
   "metadata": {},
   "source": [
    "<div class=\"exercise\"><b>Task 4: Drop Rows with Missing Values</b></div> \n",
    "\n",
    "When you know that a specific column will be critical to your analysis, and only a small fraction of rows are missing a value in that column, it often makes sense to remove those rows from the dataset.\n",
    "\n",
    "In this project we are going to focus on the differences between genders with regards to traffic stops.  Therefore, the `driver_gender` column will be critical to many of our analyses. Because only a small fraction of rows are missing `driver_gender`, we'll drop those rows from the dataset.\n",
    "\n",
    "Take a moment to read about the `dropna()` method [here](https://pandas.pydata.org/docs/reference/api/pandas.DataFrame.dropna.html).\n",
    "\n",
    "In the code cell below, write Python code to do the following.<br>\n",
    "\n",
    "- Drop all rows that are missing `driver_gender` by passing the column name to the `subset` parameter of `.dropna()` (see link above to learn how to do this).  Please to do this *in place* so that the rows are removed from the `traffic` data frame.\n",
    "- Use `.isnull().sum()` on `traffic` again to verify that there are no longer any missing values in the `driver_gender` column.\n",
    "- Print the shape of the data frame.\n",
    "\n",
    "Carefully verify that your output matches mine below:<br>\n",
    "<code>\n",
    "stop_date                 0\n",
    "stop_time                 0\n",
    "driver_gender             0\n",
    "driver_race               0\n",
    "violation_raw             0\n",
    "violation                 0\n",
    "search_conducted          0\n",
    "search_type           83229\n",
    "stop_outcome              0\n",
    "is_arrested               0\n",
    "stop_duration             0\n",
    "drugs_related_stop        0\n",
    "district                  0\n",
    "dtype: int64\n",
    "</code>\n",
    "\n",
    "<code>\n",
    "(86536, 13)\n",
    "</code>"
   ]
  },
  {
   "cell_type": "code",
   "execution_count": 5,
   "metadata": {},
   "outputs": [
    {
     "name": "stdout",
     "output_type": "stream",
     "text": [
      "stop_date                 0\n",
      "stop_time                 0\n",
      "driver_gender             0\n",
      "driver_race               0\n",
      "violation_raw             0\n",
      "violation                 0\n",
      "search_conducted          0\n",
      "search_type           83229\n",
      "stop_outcome              0\n",
      "is_arrested               0\n",
      "stop_duration             0\n",
      "drugs_related_stop        0\n",
      "district                  0\n",
      "dtype: int64\n",
      "(86536, 13)\n"
     ]
    }
   ],
   "source": [
    "traffic.dropna(axis='index', subset = 'driver_gender',inplace = True)\n",
    "print(traffic.isnull().sum())\n",
    "\n",
    "print(traffic.shape)"
   ]
  },
  {
   "cell_type": "markdown",
   "metadata": {},
   "source": [
    "<div class=\"exercise\"><b>Question 3:</b></div> \n",
    "\n",
    "Answer the following questions in the markdown cell below.\n",
    "1. How many rows did we drop (you should refer back to Question 2)?\n",
    "1. What percentage of the rows did we drop?  Does this seem like a large percentage?"
   ]
  },
  {
   "cell_type": "markdown",
   "metadata": {},
   "source": [
    "1. There are 5205 rows that we drop.\n",
    "2. The percentage of rows that we drop was about 5.67%, which is a quite large percentage."
   ]
  },
  {
   "cell_type": "markdown",
   "metadata": {},
   "source": [
    "<div class=\"exercise\"><b>Task 5: Change a Data Type</b></div> \n",
    "\n",
    "When doing data analysis, it is important to make sure you are using the correct data types; otherwise you may get unexpected results or errors. In the case of Pandas, the `pd.read_csv()` function will typically infer the appropriate data types and you can move on with your analysis without any further thought on the topic. However, this is not always the case.\n",
    "\n",
    "Run the code cell below and examine the data types of the columns of our data frame."
   ]
  },
  {
   "cell_type": "code",
   "execution_count": 6,
   "metadata": {},
   "outputs": [
    {
     "data": {
      "text/plain": [
       "stop_date             object\n",
       "stop_time             object\n",
       "driver_gender         object\n",
       "driver_race           object\n",
       "violation_raw         object\n",
       "violation             object\n",
       "search_conducted        bool\n",
       "search_type           object\n",
       "stop_outcome          object\n",
       "is_arrested           object\n",
       "stop_duration         object\n",
       "drugs_related_stop      bool\n",
       "district              object\n",
       "dtype: object"
      ]
     },
     "execution_count": 6,
     "metadata": {},
     "output_type": "execute_result"
    }
   ],
   "source": [
    "# Display column dtypes\n",
    "traffic.dtypes"
   ]
  },
  {
   "cell_type": "markdown",
   "metadata": {},
   "source": [
    "As you can see, most of the columns (variables) are of type `object`, which Pandas inferred when it read in the data file.  An `object` in Pandas is used to represent text or mixed numeric and non-numeric values.  This not appropriate for many of our variables.\n",
    "\n",
    "Please take a moment and read this [article](https://pbpython.com/pandas_dtypes.html) before moving on.\n",
    "\n",
    "We are going to focus on the `is_arrested` column, which currently has the `object` data type. We are interested in changing the data type of `is_arrested` to `bool`, because this is the most suitable type for a column containing `True` and `False` values (which it does).  Furthermore, fixing the data type will enable us to use mathematical operations on the `is_arrested` column that would not be possible otherwise.\n",
    "\n",
    "In the code cell below, write Python code to do the following.<br>\n",
    "\n",
    "- Print the head of just the `is_arrested` column to verify that it contains `True` and `False` values and to verify that the column's data type is `object`.\n",
    "- Use the `.astype()` method to convert `is_arrested` to a `bool` column (see article link above).\n",
    "- Print the head of the updated `is_arrested` column to confirm that it is now a `bool` column.\n"
   ]
  },
  {
   "cell_type": "code",
   "execution_count": 7,
   "metadata": {},
   "outputs": [
    {
     "name": "stdout",
     "output_type": "stream",
     "text": [
      "0    False\n",
      "1    False\n",
      "2    False\n",
      "3     True\n",
      "4    False\n",
      "Name: is_arrested, dtype: object\n",
      "0    False\n",
      "1    False\n",
      "2    False\n",
      "3     True\n",
      "4    False\n",
      "Name: is_arrested, dtype: bool\n"
     ]
    }
   ],
   "source": [
    "print(traffic['is_arrested'].head())\n",
    "traffic['is_arrested'] = traffic['is_arrested'].astype(bool)\n",
    "print(traffic['is_arrested'].head())"
   ]
  },
  {
   "cell_type": "markdown",
   "metadata": {},
   "source": [
    "# Examining Traffic Violations\n",
    "\n",
    "We are now ready to start examining the traffic violation data.  "
   ]
  },
  {
   "cell_type": "markdown",
   "metadata": {},
   "source": [
    "<div class=\"exercise\"><b>Task 6: Count and Proportion of Violations</b></div> \n",
    "\n",
    "We begin by examining the violations committed by *all* drivers to get a baseline understanding of the data.\n",
    "\n",
    "Here, you'll count the unique values in the `violation` column, and then separately express those counts as proportions.  Please take a minute and read this [article](https://www.sharpsightlabs.com/blog/pandas-value_counts/) before moving on.\n",
    "\n",
    "In the code cell below, write Python code to do the following.<br>\n",
    "\n",
    "- Count the unique values in the `violation` column of the data frame using the `count_values()` method to see what violations are being committed by all drivers.\n",
    "- Express the violation counts as proportions of the total (using the `normalize=True` parameter).\n",
    "\n",
    "The output from my solution is:<br>\n",
    "<code>\n",
    "Speeding               48423\n",
    "Moving violation       16224\n",
    "Equipment              10921\n",
    "Other                   4409\n",
    "Registration/plates     3703\n",
    "Seat belt               2856\n",
    "Name: violation, dtype: int64\n",
    "</code><code>\n",
    "Speeding               0.559571\n",
    "Moving violation       0.187483\n",
    "Equipment              0.126202\n",
    "Other                  0.050950\n",
    "Registration/plates    0.042791\n",
    "Seat belt              0.033004\n",
    "Name: violation, dtype: float64\n",
    "</code>"
   ]
  },
  {
   "cell_type": "code",
   "execution_count": 8,
   "metadata": {},
   "outputs": [
    {
     "name": "stdout",
     "output_type": "stream",
     "text": [
      "Speeding               48423\n",
      "Moving violation       16224\n",
      "Equipment              10921\n",
      "Other                   4409\n",
      "Registration/plates     3703\n",
      "Seat belt               2856\n",
      "Name: violation, dtype: int64\n",
      " \n",
      "Speeding               0.559571\n",
      "Moving violation       0.187483\n",
      "Equipment              0.126202\n",
      "Other                  0.050950\n",
      "Registration/plates    0.042791\n",
      "Seat belt              0.033004\n",
      "Name: violation, dtype: float64\n"
     ]
    }
   ],
   "source": [
    "print(traffic['violation'].value_counts())\n",
    "print(' ')\n",
    "print(traffic['violation'].value_counts(normalize = True))"
   ]
  },
  {
   "cell_type": "markdown",
   "metadata": {},
   "source": [
    "<div class=\"exercise\"><b>Question 4:</b></div> \n",
    "\n",
    "In the markdown cell below, discuss the distribution of violations.  That is, how do the number and percentages of the different violations compare?"
   ]
  },
  {
   "cell_type": "markdown",
   "metadata": {},
   "source": [
    "For each violation category, the bigger the number, the higher the percentage. Speeding has the biggest number and highest percentage, while seat belt has the lowest number and lowest percentage. "
   ]
  },
  {
   "cell_type": "markdown",
   "metadata": {},
   "source": [
    "<div class=\"exercise\"><b>Task 7: Violations by Gender</b></div> \n",
    "\n",
    "We are now interested in determining whether male and female drivers tend to commit different types of traffic violations.\n",
    "\n",
    "First, review the following [article](https://re-thought.com/pandas-value_counts/), paying particular attention to Item #9 (Group by and value_counts) in the article.\n",
    "\n",
    "In the code cell below, write a single line of code that displays the proportions of violations committed by females and those committed by males.  To accomplish this, link the `groupby()` and `value_counts()` methods together as in Item #9 of the [article](https://re-thought.com/pandas-value_counts/), but only for the `violation` column.  You'll also need to set the `normalize=True` parameter to obtain the proportions.\n",
    "\n",
    "The output from my solution is:<br>\n",
    "<code>\n",
    "driver_gender  violation          \n",
    "F              Speeding               0.658114\n",
    "               Moving violation       0.138218\n",
    "               Equipment              0.105199\n",
    "               Registration/plates    0.044418\n",
    "               Other                  0.029738\n",
    "               Seat belt              0.024312\n",
    "M              Speeding               0.522243\n",
    "               Moving violation       0.206144\n",
    "               Equipment              0.134158\n",
    "               Other                  0.058985\n",
    "               Registration/plates    0.042175\n",
    "               Seat belt              0.036296\n",
    "Name: violation, dtype: float64\n",
    "</code>"
   ]
  },
  {
   "cell_type": "code",
   "execution_count": 9,
   "metadata": {},
   "outputs": [
    {
     "name": "stdout",
     "output_type": "stream",
     "text": [
      "driver_gender  violation          \n",
      "F              Speeding               0.658114\n",
      "               Moving violation       0.138218\n",
      "               Equipment              0.105199\n",
      "               Registration/plates    0.044418\n",
      "               Other                  0.029738\n",
      "               Seat belt              0.024312\n",
      "M              Speeding               0.522243\n",
      "               Moving violation       0.206144\n",
      "               Equipment              0.134158\n",
      "               Other                  0.058985\n",
      "               Registration/plates    0.042175\n",
      "               Seat belt              0.036296\n",
      "Name: violation, dtype: float64\n"
     ]
    }
   ],
   "source": [
    "print(traffic.groupby('driver_gender')['violation'].value_counts(normalize = True))"
   ]
  },
  {
   "cell_type": "markdown",
   "metadata": {},
   "source": [
    "<div class=\"exercise\"><b>Question 5:</b></div> \n",
    "\n",
    "In the markdown cell below, discuss the differences between the violations by gender.  Consider for example, what percentage of violations made by females were for speeding?  How does this compare to males?"
   ]
  },
  {
   "cell_type": "markdown",
   "metadata": {},
   "source": [
    "Females have higher percentage in Speeding and Registration/plates, while Males have higher percentage in the other violations. The order of each gender is also different, as females have higher percentage in Registration/plates than Other, while males have higher percentage in Other. \n",
    "\n",
    "Females have a percentage of 0.658114 for speeding, while Males only have 0.522243"
   ]
  },
  {
   "cell_type": "markdown",
   "metadata": {},
   "source": [
    "<div class=\"exercise\"><b>Task 8: Speeding Outcomes by Gender</b></div> \n",
    "\n",
    "When a driver is pulled over for speeding, many people believe that gender has an impact on whether the driver will receive a `Citation` (ticket) or a `Warning`. Can you find evidence of this in the dataset?\n",
    "\n",
    "In the code cell below, write Python code to do the following.<br>\n",
    "\n",
    "- Create a data frame called `speeding` that contains only those rows of `traffic` for which the `violations` column is `Speeding`.\n",
    "- Write a single line of code that displays the proportions of the different stop outcomes (`stop_outcome`) that resulted from females and males stopped for speeding, respectively.  To accomplish this, you will once again link the `groupby()` and `value_counts()` methods together as in Item #9 of the [article](https://re-thought.com/pandas-value_counts/) from the last task, but only for the `stop_outcome` column.  You'll also need to set the `normalize=True` parameter.\n",
    "\n",
    "The output from my solution is:<br>\n",
    "<code>\n",
    "driver_gender  stop_outcome    \n",
    "F              Citation            0.952192\n",
    "               Warning             0.040074\n",
    "               Arrest Driver       0.005752\n",
    "               N/D                 0.000959\n",
    "               Arrest Passenger    0.000639\n",
    "               No Action           0.000383\n",
    "M              Citation            0.944595\n",
    "               Warning             0.036184\n",
    "               Arrest Driver       0.015895\n",
    "               Arrest Passenger    0.001281\n",
    "               No Action           0.001068\n",
    "               N/D                 0.000976\n",
    "Name: stop_outcome, dtype: float64\n",
    "</code>"
   ]
  },
  {
   "cell_type": "code",
   "execution_count": 10,
   "metadata": {},
   "outputs": [
    {
     "name": "stdout",
     "output_type": "stream",
     "text": [
      "driver_gender  stop_outcome    \n",
      "F              Citation            0.952192\n",
      "               Warning             0.040074\n",
      "               Arrest Driver       0.005752\n",
      "               N/D                 0.000959\n",
      "               Arrest Passenger    0.000639\n",
      "               No Action           0.000383\n",
      "M              Citation            0.944595\n",
      "               Warning             0.036184\n",
      "               Arrest Driver       0.015895\n",
      "               Arrest Passenger    0.001281\n",
      "               No Action           0.001068\n",
      "               N/D                 0.000976\n",
      "Name: stop_outcome, dtype: float64\n"
     ]
    }
   ],
   "source": [
    "speeding = traffic[traffic['violation'] == 'Speeding']\n",
    "print(speeding.groupby('driver_gender')['stop_outcome'].value_counts(normalize = True))\n"
   ]
  },
  {
   "cell_type": "markdown",
   "metadata": {},
   "source": [
    "<div class=\"exercise\"><b>Question 6:</b></div> \n",
    "\n",
    "In the markdown cell below, discuss if there is evidence that gender has an impact on whether or not the driver will receive a Citation (ticket) or a Warning."
   ]
  },
  {
   "cell_type": "markdown",
   "metadata": {},
   "source": [
    "Females has higher percentage on both Citation and Warning than Males, however the differences is extremely small. Thus, gender does not have any impact on whether the driver will receive Citation or Warning"
   ]
  },
  {
   "cell_type": "markdown",
   "metadata": {},
   "source": [
    "<div class=\"exercise\"><b>Task 9: Examining Search Rate by Gender</b></div> \n",
    "\n",
    "During a traffic stop, the police officer sometimes conducts a search of the vehicle. First, we will compute the percentage of all stops in the data set that result in a vehicle search, also known as the *search rate*.  Second, we will compare the rates at which female and male drivers are searched during a traffic stop.\n",
    "\n",
    "Recall that earlier we convered the data type of the `search_conducted` column to `bool` since it only contained the values `True` and `False`, indicating whether or not a search was conducted. Interestingly, if we apply the `.mean()` method to a Boolean column it will yield the proportion of `True` values in the column.  This occurs because `Pandas` treats `True` as the value `1` and `False` as the value `0`.  \n",
    "\n",
    "In the code cell below, write Python code to do the following.<br>\n",
    "\n",
    "- Apply `value_counts()` to the `search_conducted` column to see the overall proportion of times the traffic stop resulted in a search.  Be sure to set the `normalize=True` parameter.\n",
    "- Print the search rate for each gender separately.  To accomplish this, you will link the `groupby()` and `mean()` methods together applied to the `search_conducted` column.\n",
    "\n",
    "The output from my solution is:<br>\n",
    "<code>\n",
    "False    0.961785\n",
    "True     0.038215\n",
    "Name: search_conducted, dtype: float64\n",
    "</code><code>\n",
    "driver_gender\n",
    "F    0.019181\n",
    "M    0.045426\n",
    "Name: search_conducted, dtype: float64\n",
    "</code>"
   ]
  },
  {
   "cell_type": "code",
   "execution_count": 11,
   "metadata": {},
   "outputs": [
    {
     "name": "stdout",
     "output_type": "stream",
     "text": [
      "False    0.961785\n",
      "True     0.038215\n",
      "Name: search_conducted, dtype: float64\n",
      " \n",
      "driver_gender\n",
      "F    0.019181\n",
      "M    0.045426\n",
      "Name: search_conducted, dtype: float64\n"
     ]
    }
   ],
   "source": [
    "print(traffic['search_conducted'].value_counts(normalize = True))\n",
    "print(' ')\n",
    "print(traffic.groupby('driver_gender')['search_conducted'].mean())"
   ]
  },
  {
   "cell_type": "markdown",
   "metadata": {},
   "source": [
    "<div class=\"exercise\"><b>Question 7:</b></div> \n",
    "\n",
    "In the markdown cell below, answer the following questions.\n",
    "\n",
    "1. What is the overall search rate?\n",
    "1. How does the search rate for males and females compare?  Explain."
   ]
  },
  {
   "cell_type": "markdown",
   "metadata": {},
   "source": [
    "1. There is 0.038215 or 3.8215% rate of search that is conducted\n",
    "2. Males have higher rate of search conducted than Females, 0.045426 > 0.019181"
   ]
  },
  {
   "cell_type": "markdown",
   "metadata": {},
   "source": [
    "<div class=\"exercise\"><b>Task 10: Search Rates by Violation Type</b></div> \n",
    "\n",
    "Even though the search rate for males is much higher than for females, it's possible that the difference is mostly due to a second factor.  For example, you might hypothesize that the search rate varies by violation type, and the difference in search rate between males and females is because they tend to commit different violations.\n",
    "\n",
    "You can test this hypothesis by examining the search rate for each combination of gender and violation. If the hypothesis was true, you would find that males and females are searched at about the same rate for each violation. Let's find out if that's the case!\n",
    "\n",
    "In the code cell below, use a `.groupby()` to calculate the search rate for each combination of gender and violation.  That is, link the `groupby()` and `mean()` methods together applied to the `search_conducted` column.  However, you should pass in `['violation', 'driver_gender']` to the `.groupby()` method so that it considers each combination of gender and violation.\n",
    "\n",
    "The output from my solution is:<br>\n",
    "<code>\n",
    "violation            driver_gender\n",
    "Equipment            F                0.039984\n",
    "                     M                0.071496\n",
    "Moving violation     F                0.039257\n",
    "                     M                0.061524\n",
    "Other                F                0.041018\n",
    "                     M                0.046191\n",
    "Registration/plates  F                0.054924\n",
    "                     M                0.108802\n",
    "Seat belt            F                0.017301\n",
    "                     M                0.035119\n",
    "Speeding             F                0.008309\n",
    "                     M                0.027885\n",
    "Name: search_conducted, dtype: float64\n",
    "</code>"
   ]
  },
  {
   "cell_type": "code",
   "execution_count": 12,
   "metadata": {},
   "outputs": [
    {
     "name": "stdout",
     "output_type": "stream",
     "text": [
      "violation            driver_gender\n",
      "Equipment            F                0.039984\n",
      "                     M                0.071496\n",
      "Moving violation     F                0.039257\n",
      "                     M                0.061524\n",
      "Other                F                0.041018\n",
      "                     M                0.046191\n",
      "Registration/plates  F                0.054924\n",
      "                     M                0.108802\n",
      "Seat belt            F                0.017301\n",
      "                     M                0.035119\n",
      "Speeding             F                0.008309\n",
      "                     M                0.027885\n",
      "Name: search_conducted, dtype: float64\n"
     ]
    }
   ],
   "source": [
    "print(traffic.groupby(['violation', 'driver_gender'])['search_conducted'].mean())\n"
   ]
  },
  {
   "cell_type": "markdown",
   "metadata": {},
   "source": [
    "<div class=\"exercise\"><b>Question 8:</b></div> \n",
    "\n",
    "In the markdown cell below, answer the following questions.\n",
    "\n",
    "1. Are males and females searched at about the same rate for each violation?  Explain.\n",
    "1. Do these results provide evidence for or against our hypothesis that search rate varies by violation type (so that the difference in search rate between males and females is because they tend to commit different violations)?"
   ]
  },
  {
   "cell_type": "markdown",
   "metadata": {},
   "source": [
    "1. Males anđ Females searched are at about the same rate for some violation, such as seat belt and other. For other types of violation, either Females or Males has quite higher percentage than the other. \n",
    "\n",
    "2. These results indicates that the search behavior is not solely based on gender but also on the type of violation committed. Thus, the results provide evidence supporting the hypothesis that search rate varies by violation type, contributing to the difference in search rates between males and females.\n",
    "\n"
   ]
  },
  {
   "cell_type": "markdown",
   "metadata": {},
   "source": [
    "<div class=\"exercise\"><b>Task 11: Examining Frisk Rates</b></div> \n",
    "\n",
    "During a vehicle search, the police officer may pat down the driver to check if they have a weapon. This is known as a \"protective frisk.\"\n",
    "\n",
    "In the code cell below, use the `.value_counts()` method applied to the `search_type` column to see the different types of searches contained in the data and the counts of these different searches (do not normalize)."
   ]
  },
  {
   "cell_type": "code",
   "execution_count": 13,
   "metadata": {},
   "outputs": [
    {
     "name": "stdout",
     "output_type": "stream",
     "text": [
      "Incident to Arrest                                          1290\n",
      "Probable Cause                                               924\n",
      "Inventory                                                    219\n",
      "Reasonable Suspicion                                         214\n",
      "Protective Frisk                                             164\n",
      "Incident to Arrest,Inventory                                 123\n",
      "Incident to Arrest,Probable Cause                            100\n",
      "Probable Cause,Reasonable Suspicion                           54\n",
      "Incident to Arrest,Inventory,Probable Cause                   35\n",
      "Probable Cause,Protective Frisk                               35\n",
      "Incident to Arrest,Protective Frisk                           33\n",
      "Inventory,Probable Cause                                      25\n",
      "Protective Frisk,Reasonable Suspicion                         19\n",
      "Incident to Arrest,Inventory,Protective Frisk                 18\n",
      "Incident to Arrest,Probable Cause,Protective Frisk            13\n",
      "Inventory,Protective Frisk                                    12\n",
      "Incident to Arrest,Reasonable Suspicion                        8\n",
      "Probable Cause,Protective Frisk,Reasonable Suspicion           5\n",
      "Incident to Arrest,Probable Cause,Reasonable Suspicion         5\n",
      "Incident to Arrest,Inventory,Reasonable Suspicion              4\n",
      "Incident to Arrest,Protective Frisk,Reasonable Suspicion       2\n",
      "Inventory,Reasonable Suspicion                                 2\n",
      "Inventory,Protective Frisk,Reasonable Suspicion                1\n",
      "Inventory,Probable Cause,Reasonable Suspicion                  1\n",
      "Inventory,Probable Cause,Protective Frisk                      1\n",
      "Name: search_type, dtype: int64\n"
     ]
    }
   ],
   "source": [
    "print(traffic['search_type'].value_counts())"
   ]
  },
  {
   "cell_type": "markdown",
   "metadata": {},
   "source": [
    "You should see that `Protective Frisk` appeared  164 times.  However, note that `Protective Frisk,Reasonable Suspicion` appeared 19 times.  It should be clear that the contents of the `search_type` column are lists of all the different searches that were performed during a particular stop.\n",
    "\n",
    "Since we are interested in the overall number of protective frisks, let's create a new Boolean column that indicates if a frisk occured during a particular stop. Please take a moment to read about Pandas `.str.contains()` function [here](https://www.statology.org/pandas-filter-rows-containing-string/).\n",
    "\n",
    "In the code cell below, create a new column called `frisk` by using the `.str.contains()` method applied to the `search_type` column.  In particular, search for the string `'Protective Frisk'` and set `na=False`. Thus, the `frisk` column should be Boolean where it is `True` if a frisk was peformed and `False` otherwise.  Finally, print out the total number of frisks by using `traffic.frisk.sum()`.\n",
    "\n",
    "The output from my solution is as follows--please mimic my output.<br>\n",
    "\n",
    "<code>\n",
    "The total number of frisks was 303\n",
    "</code>"
   ]
  },
  {
   "cell_type": "code",
   "execution_count": 14,
   "metadata": {},
   "outputs": [
    {
     "name": "stdout",
     "output_type": "stream",
     "text": [
      "The total number of frisks was 303\n"
     ]
    }
   ],
   "source": [
    "traffic['frisk'] = traffic['search_type'].str.contains('Protective Frisk', na=False)\n",
    "print(\"The total number of frisks was\", traffic.frisk.sum())"
   ]
  },
  {
   "cell_type": "markdown",
   "metadata": {},
   "source": [
    "<div class=\"exercise\"><b>Task 12: Comparing Frisk Rates by Gender</b></div> \n",
    "\n",
    "Let's now compare the rates at which female and male drivers are frisked during a search. \n",
    "\n",
    "In the code cell below, write Python code to do the following.<br>\n",
    "\n",
    "- Create a data frame called `searched` that only contains rows in which `search_conducted` is `True`.\n",
    "- Print the mean of  the `frisk` column of the `searched` data frame to determine the overall frisk rate.\n",
    "- Calculate the frisk rate by gender.  To accomplish this, you will link the `groupby()` and `mean()` methods together applied to the `frisk` column of the `searched` data frame.\n",
    "\n",
    "Below is the output from my solution--please mimic my output:<br>\n",
    "<code>\n",
    "The overall frisk rate is 0.09162382824312065\n",
    "</code><code>\n",
    "driver_gender\n",
    "F    0.074561\n",
    "M    0.094353\n",
    "Name: frisk, dtype: float64\n",
    "</code>"
   ]
  },
  {
   "cell_type": "code",
   "execution_count": 15,
   "metadata": {},
   "outputs": [
    {
     "name": "stdout",
     "output_type": "stream",
     "text": [
      "The overall frisk rate is 0.09162382824312065\n",
      "driver_gender\n",
      "F    0.074561\n",
      "M    0.094353\n",
      "Name: frisk, dtype: float64\n"
     ]
    }
   ],
   "source": [
    "searched = traffic[traffic['search_conducted'] == True]\n",
    "print('The overall frisk rate is', searched['frisk'].mean())\n",
    "print(searched.groupby('driver_gender')['frisk'].mean())"
   ]
  },
  {
   "cell_type": "markdown",
   "metadata": {},
   "source": [
    "<div class=\"exercise\"><b>Question 9:</b></div> \n",
    "\n",
    "In the markdown cell below, answer the following questions.\n",
    "\n",
    "1. Are the frisk rates for males and females similar?\n",
    "1. Can we assume that police officers consider males to be of a higher risk and are therefore frisked more often?  That is, can we assume a *causal* relationship?"
   ]
  },
  {
   "cell_type": "markdown",
   "metadata": {},
   "source": [
    "1. Males' is higher by a very small margin, about 2%. Thus, males' and females' frisk rates are quite similar \n",
    "\n",
    "2. We cannot assume that police officers consider males to be of higher risk and therefore frisked more often, the fact that males are frisked more often is due to many factors, and this is not a causal relationship, it's a correlation relationship"
   ]
  },
  {
   "cell_type": "markdown",
   "metadata": {},
   "source": [
    "# Violations by District\n",
    "\n",
    "The state of Rhode Island is broken into six police districts, also known as *zones*. How do the zones compare in terms of what violations are caught by police?"
   ]
  },
  {
   "cell_type": "markdown",
   "metadata": {},
   "source": [
    "<div class=\"exercise\"><b>Task 13: Comparing Violations by District</b></div> \n",
    "\n",
    "Let's create a *frequency table* to determine how many violations of each type took place in each of the six zones. Then, we will filter the table to focus on the \"K\" zones, which you'll examine further.\n",
    "\n",
    "In the code cell below, write Python code to do the following.<br>\n",
    "\n",
    "- Create a *frequency table* from the `district` and `violation` columns using the `pd.crosstab()` function--save the table as `all_zones`.\n",
    "- Select rows `'Zone K1'` through `'Zone K3'` from the `all_zones` table using `.loc[]`--save the table as `k_zones`.\n",
    "- Print `k_zones` .\n",
    "\n",
    "The output from my solution is:<br>\n",
    "<code>\n",
    "violation  Equipment  Moving violation  Other  Registration/plates  Seat belt  \\\n",
    "district                                                                        \n",
    "Zone K1          673              1254    290                  120          0   \n",
    "Zone K2         2061              2962    942                  768        481   \n",
    "Zone K3         2302              2898    706                  695        638   \n",
    "</code><code>\n",
    "violation  Speeding  \n",
    "district             \n",
    "Zone K1        5960  \n",
    "Zone K2       10448  \n",
    "Zone K3       12323\n",
    "</code>"
   ]
  },
  {
   "cell_type": "code",
   "execution_count": 16,
   "metadata": {},
   "outputs": [
    {
     "name": "stdout",
     "output_type": "stream",
     "text": [
      "violation  Equipment  Moving violation  Other  Registration/plates  Seat belt  \\\n",
      "district                                                                        \n",
      "Zone K1          672              1254    290                  120          0   \n",
      "Zone K2         2061              2962    942                  768        481   \n",
      "Zone K3         2302              2898    705                  695        638   \n",
      "\n",
      "violation  Speeding  \n",
      "district             \n",
      "Zone K1        5960  \n",
      "Zone K2       10448  \n",
      "Zone K3       12322  \n"
     ]
    }
   ],
   "source": [
    "all_zones = pd.crosstab(traffic['district'], traffic['violation'])\n",
    "k_zones = all_zones.loc['Zone K1':'Zone K3']\n",
    "print(k_zones)"
   ]
  },
  {
   "cell_type": "markdown",
   "metadata": {},
   "source": [
    "Now that you've created a frequency table focused on the \"K\" zones, you'll visualize the data to help you compare what violations are being caught in each zone.\n",
    "\n",
    "Take a moment and read about how to create bar charts from a Pandas data frame [here](https://www.shanelynn.ie/bar-plots-in-python-using-pandas-dataframes/).\n",
    "\n",
    "In the code cell below, write Python code to do the following (note that `matplotlib.pyplot` has already been imported as `plt`).<br>\n",
    "\n",
    "- Create a (standard) bar chart of `k_zones` using the `.plot()` method and `kind='bar'` parameter.\n",
    "- Create a *stacked* bar chart of `k_zones` by adding the additional parameter `stacked=True`.\n",
    "\n",
    "Here is my output:\n",
    "\n",
    "![bargraph1](graph1.png)"
   ]
  },
  {
   "cell_type": "code",
   "execution_count": 17,
   "metadata": {},
   "outputs": [
    {
     "data": {
      "image/png": "[encoded data removed]",
      "text/plain": [
       "<Figure size 1000x600 with 1 Axes>"
      ]
     },
     "metadata": {},
     "output_type": "display_data"
    },
    {
     "data": {
      "image/png": "[encoded data removed]",
      "text/plain": [
       "<Figure size 1000x600 with 1 Axes>"
      ]
     },
     "metadata": {},
     "output_type": "display_data"
    }
   ],
   "source": [
    "k_zones.plot(kind='bar', figsize=(10, 6))\n",
    "plt.title('Frequency of Violations in K Zones')\n",
    "plt.xlabel('District')\n",
    "plt.ylabel('Frequency')\n",
    "plt.legend(title='Violation')\n",
    "plt.show()\n",
    "\n",
    "k_zones.plot(kind='bar', stacked=True, figsize=(10, 6))\n",
    "plt.title('Stacked Frequency of Violations in K Zones')\n",
    "plt.xlabel('District')\n",
    "plt.ylabel('Frequency')\n",
    "plt.legend(title='Violation')\n",
    "plt.show()"
   ]
  },
  {
   "cell_type": "markdown",
   "metadata": {},
   "source": [
    "<div class=\"exercise\"><b>Question 10:</b></div> \n",
    "\n",
    "In the markdown cell below, answer the following questions.\n",
    "\n",
    "1. Which plot do you find to be more insightful?  Explain.\n",
    "1. Comment on how the violations differ by zone."
   ]
  },
  {
   "cell_type": "markdown",
   "metadata": {},
   "source": [
    "1. The stacked plot for me is more insightful because it helps observe the proportion of each category within each K-zone. \n",
    "\n",
    "2. In three category, speeding has the highest percentage, followed by moving violation and equipment. The other violations have the lowest percentage. However, in Zone 1, the number of each category is much lower than those of Zone 2 and 3. "
   ]
  },
  {
   "cell_type": "markdown",
   "metadata": {},
   "source": [
    "# Date-Time Format\n",
    "\n",
    "Currently, the date and time of each traffic stop are stored in separate object columns: `stop_date` and `stop_time`.  It will be beneficial to combine these two columns into a single column and then convert it to `datetime` format.  This will enable convenient date-based attributes.\n",
    "\n",
    "Take a few minutes and read about the `datetime` format [here](https://www.analyticsvidhya.com/blog/2020/05/datetime-variables-python-pandas/)."
   ]
  },
  {
   "cell_type": "markdown",
   "metadata": {},
   "source": [
    "<div class=\"exercise\"><b>Task 14: Combine Date and Stop Time</b></div> \n",
    "\n",
    "Take a few minutes and read about concatenating columns in Pandas [here](https://www.datasciencemadesimple.com/concatenate-two-columns-dataframe-pandas-python-2/) and converting a string to `datetime` formart [here](https://datascienceparichay.com/article/pandas-convert-string-column-to-datetime/).  **Do not move on until you have carefully read both articles.**\n",
    "\n",
    "In the code cell below, write Python code to do the following.<br>\n",
    "\n",
    "- Use `.str.cat()` to concatenate the `stop_date` and `stop_time` columns, separated by a space (`sep=' '`), and store the result (which should be a `Series`) as `combined`.\n",
    "- Convert `combined` to `datetime` format (using `pd.to_datetime()`), and store the result in a new column of `traffic` named `stop_datetime`.\n",
    "- Print `traffic['stop_datetime'].head()` to verify that the columns were concatenated correctly and that the `dtype` is now `datetime64`.\n",
    "\n",
    "The output from my solution is:<br>\n",
    "<code>\n",
    "0   2005-01-04 12:55:00\n",
    "1   2005-01-23 23:15:00\n",
    "2   2005-02-17 04:15:00\n",
    "3   2005-02-20 17:15:00\n",
    "4   2005-02-24 01:20:00\n",
    "Name: stop_datetime, dtype: datetime64[ns]\n",
    "</code>"
   ]
  },
  {
   "cell_type": "code",
   "execution_count": 18,
   "metadata": {},
   "outputs": [
    {
     "data": {
      "text/plain": [
       "0   2005-01-04 12:55:00\n",
       "1   2005-01-23 23:15:00\n",
       "2   2005-02-17 04:15:00\n",
       "3   2005-02-20 17:15:00\n",
       "4   2005-02-24 01:20:00\n",
       "Name: stop_datetime, dtype: datetime64[ns]"
      ]
     },
     "execution_count": 18,
     "metadata": {},
     "output_type": "execute_result"
    }
   ],
   "source": [
    "traffic['stop_datetime'] = pd.to_datetime(traffic['stop_date'] + ' ' + traffic['stop_time'])\n",
    "traffic['stop_datetime'].head()"
   ]
  },
  {
   "cell_type": "markdown",
   "metadata": {},
   "source": [
    "It makes sense to set the `stop_datetime` column as the data frames `index`. By replacing the default `index` with a `DatetimeIndex`, it will make it easier to analyze the data by date and time.\n",
    "\n",
    "In the code cell below, write Python code to do the following.<br>\n",
    "\n",
    "- Set `stop_datetime` as the `index` of `traffic` using the `.set_index()` method--be sure to do it *in place*.\n",
    "- Print `traffic.head()` to verify that `stop_datetime` is no longer a column in `traffic`.\n",
    "\n",
    "The output from my solution is as follows:<br>\n",
    "\n",
    "<code>\n",
    "                      stop_date stop_time driver_gender driver_race  \\\n",
    "stop_datetime                                                         \n",
    "2005-01-04 12:55:00  2005-01-04     12:55             M       White   \n",
    "2005-01-23 23:15:00  2005-01-23     23:15             M       White   \n",
    "2005-02-17 04:15:00  2005-02-17     04:15             M       White   \n",
    "2005-02-20 17:15:00  2005-02-20     17:15             M       White   \n",
    "2005-02-24 01:20:00  2005-02-24     01:20             F       White   \n",
    "</code><code>\n",
    "                                      violation_raw  violation  \\\n",
    "stop_datetime                                                    \n",
    "2005-01-04 12:55:00  Equipment/Inspection Violation  Equipment   \n",
    "2005-01-23 23:15:00                        Speeding   Speeding   \n",
    "2005-02-17 04:15:00                        Speeding   Speeding   \n",
    "2005-02-20 17:15:00                Call for Service      Other   \n",
    "2005-02-24 01:20:00                        Speeding   Speeding   \n",
    "</code><code>\n",
    "                     search_conducted search_type   stop_outcome  is_arrested  \\\n",
    "stop_datetime                                                                   \n",
    "2005-01-04 12:55:00             False         NaN       Citation        False   \n",
    "2005-01-23 23:15:00             False         NaN       Citation        False   \n",
    "2005-02-17 04:15:00             False         NaN       Citation        False   \n",
    "2005-02-20 17:15:00             False         NaN  Arrest Driver         True   \n",
    "2005-02-24 01:20:00             False         NaN       Citation        False   \n",
    "</code><code>\n",
    "                    stop_duration  drugs_related_stop district  frisk  \n",
    "stop_datetime                                                          \n",
    "2005-01-04 12:55:00      0-15 Min               False  Zone X4  False  \n",
    "2005-01-23 23:15:00      0-15 Min               False  Zone K3  False  \n",
    "2005-02-17 04:15:00      0-15 Min               False  Zone X4  False  \n",
    "2005-02-20 17:15:00     16-30 Min               False  Zone X1  False  \n",
    "2005-02-24 01:20:00      0-15 Min               False  Zone X3  False   \n",
    "</code>"
   ]
  },
  {
   "cell_type": "code",
   "execution_count": 19,
   "metadata": {},
   "outputs": [
    {
     "name": "stdout",
     "output_type": "stream",
     "text": [
      "                      stop_date stop_time driver_gender driver_race  \\\n",
      "stop_datetime                                                         \n",
      "2005-01-04 12:55:00  2005-01-04     12:55             M       White   \n",
      "2005-01-23 23:15:00  2005-01-23     23:15             M       White   \n",
      "2005-02-17 04:15:00  2005-02-17     04:15             M       White   \n",
      "2005-02-20 17:15:00  2005-02-20     17:15             M       White   \n",
      "2005-02-24 01:20:00  2005-02-24     01:20             F       White   \n",
      "\n",
      "                                      violation_raw  violation  \\\n",
      "stop_datetime                                                    \n",
      "2005-01-04 12:55:00  Equipment/Inspection Violation  Equipment   \n",
      "2005-01-23 23:15:00                        Speeding   Speeding   \n",
      "2005-02-17 04:15:00                        Speeding   Speeding   \n",
      "2005-02-20 17:15:00                Call for Service      Other   \n",
      "2005-02-24 01:20:00                        Speeding   Speeding   \n",
      "\n",
      "                     search_conducted search_type   stop_outcome  is_arrested  \\\n",
      "stop_datetime                                                                   \n",
      "2005-01-04 12:55:00             False         NaN       Citation        False   \n",
      "2005-01-23 23:15:00             False         NaN       Citation        False   \n",
      "2005-02-17 04:15:00             False         NaN       Citation        False   \n",
      "2005-02-20 17:15:00             False         NaN  Arrest Driver         True   \n",
      "2005-02-24 01:20:00             False         NaN       Citation        False   \n",
      "\n",
      "                    stop_duration  drugs_related_stop district  frisk  \n",
      "stop_datetime                                                          \n",
      "2005-01-04 12:55:00      0-15 Min               False  Zone X4  False  \n",
      "2005-01-23 23:15:00      0-15 Min               False  Zone K3  False  \n",
      "2005-02-17 04:15:00      0-15 Min               False  Zone X4  False  \n",
      "2005-02-20 17:15:00     16-30 Min               False  Zone X1  False  \n",
      "2005-02-24 01:20:00      0-15 Min               False  Zone X3  False  \n"
     ]
    }
   ],
   "source": [
    "traffic.set_index('stop_datetime', inplace = True)\n",
    "print(traffic.head())"
   ]
  },
  {
   "cell_type": "markdown",
   "metadata": {},
   "source": [
    "# Further Analysis Using Date and Time"
   ]
  },
  {
   "cell_type": "markdown",
   "metadata": {},
   "source": [
    "<div class=\"exercise\"><b>Task 15: Investigating Hourly Arrest Rate</b></div> \n",
    "\n",
    "When a police officer stops a driver, a small percentage of those stops ends in an arrest. This is known as the *arrest rate*. We are interested in determining if the arrest rate varies by time of day.\n",
    "\n",
    "In the code cell below, we do the following (**all the code has been written for you**):\n",
    "\n",
    "- First, we calculate the arrest rate across all stops in the `traffic` data frame (using `mean()` on the `is_arrested` column). \n",
    "- Second, we calculate the hourly arrest rate by using the `hour` attribute of the `index` (which is of a `datetime` type). Specifically, group by the `hour` attribute of the data frame `index` to calculate the hourly arrest rate. Note that the hour ranges from 0 to 23, in which:<br>\n",
    "        0 = midnight\n",
    "        12 = noon\n",
    "        23 = 11 PM\n",
    "- Finally, we create a line plot from the `hourly_arrest_rate` object, which is an appropriate graphical summary in this case because we are examining how a quantity changes over time.\n",
    "\n",
    "**Please study the code cell below carefully, being sure to understand everything, and then run it.**"
   ]
  },
  {
   "cell_type": "code",
   "execution_count": 20,
   "metadata": {},
   "outputs": [
    {
     "name": "stdout",
     "output_type": "stream",
     "text": [
      "The overall arrest rate is 0.0355690117407784\n",
      "\n",
      "stop_datetime\n",
      "0     0.051431\n",
      "1     0.064932\n",
      "2     0.060798\n",
      "3     0.060549\n",
      "4     0.048000\n",
      "5     0.042781\n",
      "6     0.013813\n",
      "7     0.013032\n",
      "8     0.021854\n",
      "9     0.025206\n",
      "10    0.028213\n",
      "11    0.028897\n",
      "12    0.037399\n",
      "13    0.030776\n",
      "14    0.030605\n",
      "15    0.030679\n",
      "16    0.035281\n",
      "17    0.040619\n",
      "18    0.038204\n",
      "19    0.032245\n",
      "20    0.038107\n",
      "21    0.064541\n",
      "22    0.048666\n",
      "23    0.047592\n",
      "Name: is_arrested, dtype: float64\n"
     ]
    },
    {
     "data": {
      "image/png": "[encoded data removed]",
      "text/plain": [
       "<Figure size 640x480 with 1 Axes>"
      ]
     },
     "metadata": {},
     "output_type": "display_data"
    }
   ],
   "source": [
    "# Calculate and print the overall arrest rate\n",
    "overallArrestRate = traffic.is_arrested.mean()\n",
    "print('The overall arrest rate is ' + str(overallArrestRate) + '\\n')\n",
    "\n",
    "# Calculate and print the hourly arrest rate\n",
    "hourly_arrest_rate = traffic.groupby(traffic.index.hour).is_arrested.mean()\n",
    "print(hourly_arrest_rate)\n",
    "\n",
    "# Create a line plot of 'hourly_arrest_rate'\n",
    "import matplotlib.pyplot as plt\n",
    "plt.plot(hourly_arrest_rate)\n",
    "plt.xlabel('Hour')\n",
    "plt.ylabel('Arrest Rate')\n",
    "plt.title('Arrest Rate by Time of Day')\n",
    "plt.show()"
   ]
  },
  {
   "cell_type": "markdown",
   "metadata": {},
   "source": [
    "<div class=\"exercise\"><b>Question 11:</b></div> \n",
    "\n",
    "In the markdown cell below, answer the following questions.\n",
    "\n",
    "1. Does the arrest rate vary by time of day?\n",
    "1. Discuss the general time of day for when arrests are least likely and most likely to occur (early morning, morning, afternoon, evening, etc)."
   ]
  },
  {
   "cell_type": "markdown",
   "metadata": {},
   "source": [
    "1. Yes, it varies from the first hour to the 24th hour of the day\n",
    "\n",
    "2. The time of day when arrests are most likely to occur is early morning and evening, while the time when arrests are least likely to occur is in the morning. "
   ]
  },
  {
   "cell_type": "markdown",
   "metadata": {},
   "source": [
    "# Examining Stop Durations\n",
    "\n",
    "In the traffic stops dataset, the `stop_duration` column tells you approximately how long the driver was detained by the officer. Unfortunately, the durations are stored as strings, such as `'0-15 Min'`. If we want to analyze this data we will need to convert this column into a more useful form."
   ]
  },
  {
   "cell_type": "markdown",
   "metadata": {},
   "source": [
    "<div class=\"exercise\"><b>Task 16: Converting Stop Durations to Numbers</b></div> \n",
    "\n",
    "Let's convert the stop durations to integers, which will allow us to better analyze them. Because the precise durations are not available, we will have to estimate the numbers using *reasonable* values.  Specifically, we will use the following conversions:<br>\n",
    "\n",
    "    Convert '0-15 Min' to 8\n",
    "    Convert '16-30 Min' to 23\n",
    "    Convert '30+ Min' to 45\n",
    "\n",
    "That is, we will estimate that stops in the `'0-15 Min'` group lasted 8 minutes, those in the `'16-30 Min'` group took 23 minutes, and those in the `'30+ Min'` group took 45 minutes.\n",
    "\n",
    "Take a few minutes to read over Pandas *map* feature [here](https://kanoki.org/2019/04/06/pandas-map-dictionary-values-with-dataframe-columns/), which allows you to create a new column by *mapping* the data frame column values with a *Dictionary Key*.  **Do not move on until you have read the article carefully!**\n",
    "\n",
    "In the code cell below, do the following:\n",
    "\n",
    "- Create a dictionary called `mapping` that maps the `stop_duration` strings to the specified integers above.\n",
    "- Convert the `stop_duration` strings to integers using the mapping (by passing `mapping` into the `map()` method applied to the `stop_duration` column), and store the results in a new column called `stop_minutes`.\n",
    "- Print the first 10 rows of the just the `stop_duration` and `stop_minutes` columns of `traffic` to verify that the mapping appears correct.\n",
    "\n",
    "The output from my solution is as follows:<br>\n",
    "\n",
    "<code>\n",
    "                    stop_duration  stop_minutes\n",
    "stop_datetime                                  \n",
    "2005-01-04 12:55:00      0-15 Min             8\n",
    "2005-01-23 23:15:00      0-15 Min             8\n",
    "2005-02-17 04:15:00      0-15 Min             8\n",
    "2005-02-20 17:15:00     16-30 Min            23\n",
    "2005-02-24 01:20:00      0-15 Min             8\n",
    "2005-03-14 10:00:00      0-15 Min             8\n",
    "2005-03-29 21:55:00      0-15 Min             8\n",
    "2005-04-04 21:25:00      0-15 Min             8\n",
    "2005-07-14 11:20:00      0-15 Min             8\n",
    "2005-07-14 19:55:00      0-15 Min             8\n",
    "</code>"
   ]
  },
  {
   "cell_type": "code",
   "execution_count": 21,
   "metadata": {},
   "outputs": [
    {
     "name": "stdout",
     "output_type": "stream",
     "text": [
      "                    stop_duration  stop_minutes\n",
      "stop_datetime                                  \n",
      "2005-01-04 12:55:00      0-15 Min             8\n",
      "2005-01-23 23:15:00      0-15 Min             8\n",
      "2005-02-17 04:15:00      0-15 Min             8\n",
      "2005-02-20 17:15:00     16-30 Min            23\n",
      "2005-02-24 01:20:00      0-15 Min             8\n",
      "2005-03-14 10:00:00      0-15 Min             8\n",
      "2005-03-29 21:55:00      0-15 Min             8\n",
      "2005-04-04 21:25:00      0-15 Min             8\n",
      "2005-07-14 11:20:00      0-15 Min             8\n",
      "2005-07-14 19:55:00      0-15 Min             8\n"
     ]
    }
   ],
   "source": [
    "mapping = {'0-15 Min': 8, '16-30 Min': 23, '30+ Min': 45}\n",
    "traffic['stop_minutes'] = traffic['stop_duration'].map(mapping)\n",
    "\n",
    "print(traffic[['stop_duration', 'stop_minutes']].head(10))"
   ]
  },
  {
   "cell_type": "markdown",
   "metadata": {},
   "source": [
    "<div class=\"exercise\"><b>Task 17: Plotting Stop Lengths</b></div> \n",
    "\n",
    "If you were stopped for a particular violation, how long might you expect to be detained?\n",
    "\n",
    "Rather than using the `violation` column, let's use the `violation_raw` column since it contains more detailed descriptions of the violations.\n",
    "\n",
    "In the code cell below, do the following:\n",
    "\n",
    "- For each value in the `traffic` data frames `violation_raw` column, calculate the mean number of `stop_minutes` that a driver is detained.  To accomplish this, you'll need to *group by* `violation_raw` and compute the mean of `stop_minutes`.  Save the resulting object as `stop_length`.\n",
    "- Print `stop_length`.\n",
    "- Sort `stop_length` by its values, and then visualize it with a horizontal bar plot, using the `.plot(kind='barh')` method of the object (similar to Task 13).\n",
    "\n",
    "Here is my output:\n",
    "\n",
    "![bargraph2](graph2.png)"
   ]
  },
  {
   "cell_type": "code",
   "execution_count": 22,
   "metadata": {},
   "outputs": [
    {
     "name": "stdout",
     "output_type": "stream",
     "text": [
      "violation_raw\n",
      "APB                                 17.967033\n",
      "Call for Service                    22.124371\n",
      "Equipment/Inspection Violation      11.445655\n",
      "Motorist Assist/Courtesy            17.741463\n",
      "Other Traffic Violation             13.844490\n",
      "Registration Violation              13.736970\n",
      "Seatbelt Violation                   9.662815\n",
      "Special Detail/Directed Patrol      15.123632\n",
      "Speeding                            10.581562\n",
      "Suspicious Person                   14.910714\n",
      "Violation of City/Town Ordinance    13.254144\n",
      "Warrant                             24.055556\n",
      "Name: stop_minutes, dtype: float64\n"
     ]
    },
    {
     "data": {
      "image/png": "[encoded data removed]",
      "text/plain": [
       "<Figure size 1000x800 with 1 Axes>"
      ]
     },
     "metadata": {},
     "output_type": "display_data"
    }
   ],
   "source": [
    "stop_length = traffic.groupby('violation_raw')['stop_minutes'].mean()\n",
    "print(stop_length)\n",
    "\n",
    "stop_length_sorted = stop_length.sort_values()\n",
    "\n",
    "stop_length_sorted.plot(kind='barh', figsize=(10, 8))\n",
    "plt.xlabel('Mean Stop Minutes')\n",
    "plt.ylabel('Violation')\n",
    "plt.title('Mean Stop Minutes by Types of Violation')\n",
    "plt.show()"
   ]
  },
  {
   "cell_type": "markdown",
   "metadata": {},
   "source": [
    "<div class=\"exercise\"><b>Question 12:</b></div> \n",
    "\n",
    "In the markdown cell below, discuss how the stop duration varies by violation."
   ]
  },
  {
   "cell_type": "markdown",
   "metadata": {},
   "source": [
    "Call for Service and Warrant has the highest mean stop minutes, while  Equipment/Inspection Violation, Other Traffic Violation, and Registration Violationhave moderately higher mean stop minutes compared to some others.\n",
    "\n",
    "Seatbelt Violation, Speeding, and Violation of City/Town Ordinance have the lowest mean stop minutes compared to others. \n",
    "\n",
    "APB, Motorist Assist/Courtesy, Suspicious Person, and Special Detail/Directed Patrol mean stop minutes is in the middle."
   ]
  },
  {
   "cell_type": "markdown",
   "metadata": {},
   "source": [
    "# The Effect of Temperature\n",
    "\n",
    "We now wish to assess the effect of weather on the arrest rate. For the remainder of this project we will be working with a new data set to help us determine if weather conditions have an impact on police behavior.  The weather data we will be using was collected by the [National Centers for Environmental Information](https://www.ncei.noaa.gov/). \n",
    "\n",
    "We are interested in determining if weather conditions impact police behavior during traffic stops.  Ideally, we would look up the historical weather at the location of each stop. However, the traffic stops data set does not specify stop location, so we're going to use the data from a single weather station near the center of Rhode Island. This is not ideal, but Rhode Island is the smallest US state and so a single station will still give us a *general idea* of the weather throughout the state."
   ]
  },
  {
   "cell_type": "markdown",
   "metadata": {},
   "source": [
    "<div class=\"exercise\"><b>Task 18: Importing and Exploring Weather Data</b></div> \n",
    "\n",
    "The `weather.csv` file in the folder `project1Data` contains the weather data from Rhode Island that we will use in this project.\n",
    "\n",
    "In the code cell below, write Python code to do the following.<br>\n",
    "\n",
    "1. Read in the file `weather.csv` and assign it to the data frame `weather`.\n",
    "1. Print the first 5 rows of the data frame and familiarize yourself with the columns.\n",
    "\n",
    "The output from my solution is as follows:<br>\n",
    "\n",
    "<code>\n",
    "       STATION        DATE  TAVG  TMIN  TMAX  AWND  WSF2  WT01  WT02  WT03  \\\n",
    "0  USW00014765  2005-01-01  44.0    35    53  8.95  25.1   1.0   NaN   NaN   \n",
    "1  USW00014765  2005-01-02  36.0    28    44  9.40  14.1   NaN   NaN   NaN   \n",
    "2  USW00014765  2005-01-03  49.0    44    53  6.93  17.0   1.0   NaN   NaN   \n",
    "3  USW00014765  2005-01-04  42.0    39    45  6.93  16.1   1.0   NaN   NaN   \n",
    "4  USW00014765  2005-01-05  36.0    28    43  7.83  17.0   1.0   NaN   NaN   \n",
    "</code><code>\n",
    "   ...  WT11  WT13  WT14  WT15  WT16  WT17  WT18  WT19  WT21  WT22  \n",
    "0  ...   NaN   1.0   NaN   NaN   NaN   NaN   NaN   NaN   NaN   NaN  \n",
    "1  ...   NaN   NaN   NaN   NaN   1.0   NaN   1.0   NaN   NaN   NaN  \n",
    "2  ...   NaN   1.0   NaN   NaN   1.0   NaN   NaN   NaN   NaN   NaN  \n",
    "3  ...   NaN   1.0   1.0   NaN   1.0   NaN   NaN   NaN   NaN   NaN  \n",
    "4  ...   NaN   1.0   NaN   NaN   1.0   NaN   1.0   NaN   NaN   NaN  \n",
    "</code><code>\n",
    "[5 rows x 27 columns]\n",
    "</code>"
   ]
  },
  {
   "cell_type": "code",
   "execution_count": 23,
   "metadata": {},
   "outputs": [
    {
     "name": "stdout",
     "output_type": "stream",
     "text": [
      "       STATION        DATE  TAVG  TMIN  TMAX  AWND  WSF2  WT01  WT02  WT03  \\\n",
      "0  USW00014765  2005-01-01  44.0    35    53  8.95  25.1   1.0   NaN   NaN   \n",
      "1  USW00014765  2005-01-02  36.0    28    44  9.40  14.1   NaN   NaN   NaN   \n",
      "2  USW00014765  2005-01-03  49.0    44    53  6.93  17.0   1.0   NaN   NaN   \n",
      "3  USW00014765  2005-01-04  42.0    39    45  6.93  16.1   1.0   NaN   NaN   \n",
      "4  USW00014765  2005-01-05  36.0    28    43  7.83  17.0   1.0   NaN   NaN   \n",
      "\n",
      "   ...  WT11  WT13  WT14  WT15  WT16  WT17  WT18  WT19  WT21  WT22  \n",
      "0  ...   NaN   1.0   NaN   NaN   NaN   NaN   NaN   NaN   NaN   NaN  \n",
      "1  ...   NaN   NaN   NaN   NaN   1.0   NaN   1.0   NaN   NaN   NaN  \n",
      "2  ...   NaN   1.0   NaN   NaN   1.0   NaN   NaN   NaN   NaN   NaN  \n",
      "3  ...   NaN   1.0   1.0   NaN   1.0   NaN   NaN   NaN   NaN   NaN  \n",
      "4  ...   NaN   1.0   NaN   NaN   1.0   NaN   1.0   NaN   NaN   NaN  \n",
      "\n",
      "[5 rows x 27 columns]\n"
     ]
    }
   ],
   "source": [
    "weather = pd.read_csv('weather.csv')\n",
    "print(weather.head())"
   ]
  },
  {
   "cell_type": "markdown",
   "metadata": {},
   "source": [
    "**The Weather Data Set:** You can see that the `STATION` column lists the station ID, and there's one row for each date. There are three columns related to temperature (`TAVG`, `TMIN`, `TMAX`) that correspond to the average temperature, the minimum temperature, and the maximum temperature for that day.  The are two columns (`AWND` and `WSF2`) related to wind speed, and the last 20 columns are related to the presence of certain bad weather conditions.  For example:\n",
    "\n",
    "    WT05 indicates \"Hail\"\n",
    "    WT11 indicates \"High or damaging winds\"\n",
    "    WT17 indicates \"Freezing rain\"\n",
    "    \n",
    "For every row in the dataset, each `WT` column contains either a 1 (meaning the condition was present that day) or `NaN` (meaning the condition was not present).\n",
    "\n",
    "Note that the temperature is measured in degrees Fahrenheit, not Celsius!"
   ]
  },
  {
   "cell_type": "markdown",
   "metadata": {},
   "source": [
    "<div class=\"exercise\"><b>Task 19: Categorizing Weather Days</b></div> \n",
    "\n",
    "Let's try to quantify how \"bad\" the weather was each day by counting the number of 1 values in each row.\n",
    "\n",
    "In the code cell below, write Python code to do the following.<br>\n",
    "\n",
    "- Copy the columns `WT01` through `WT22` from `weather` using `.loc[]` to a new data frame named `WT`.\n",
    "- Calculate the sum of each row in `W`, and store the results in a new column of `weather` named `bad_conditions`.  You will want to use the `.sum(axis='columns')` method.\n",
    "- Replace any missing values in `bad_conditions` with a 0. (This has been done for you.)\n",
    "- Create a histogram to visualize `bad_conditions`, and then display the plot. (This has been done for you.)\n",
    "\n",
    "Here is my output:\n",
    "\n",
    "![bargraph3](graph3.png)"
   ]
  },
  {
   "cell_type": "code",
   "execution_count": 24,
   "metadata": {},
   "outputs": [
    {
     "data": {
      "image/png": "[encoded data removed]",
      "text/plain": [
       "<Figure size 640x480 with 1 Axes>"
      ]
     },
     "metadata": {},
     "output_type": "display_data"
    }
   ],
   "source": [
    "# Copy 'WT01' through 'WT22' to a new DataFrame\n",
    "#  Your code here...\n",
    "WT = weather.loc[:, 'WT01':'WT22']\n",
    "\n",
    "# Calculate the sum of each row in 'WT'\n",
    "#  Your code here...\n",
    "weather['bad_conditions'] = WT.sum(axis='columns')\n",
    "\n",
    "# Replace missing values in 'bad_conditions' with '0'\n",
    "weather['bad_conditions'] = weather.bad_conditions.fillna(0).astype('int')\n",
    "\n",
    "# Create a histogram to visualize 'bad_conditions'\n",
    "weather['bad_conditions'].plot(kind='hist')\n",
    "plt.xlabel('Number of Bad Weather Conditions')\n",
    "\n",
    "# Display the plot\n",
    "plt.show()"
   ]
  },
  {
   "cell_type": "markdown",
   "metadata": {},
   "source": [
    "<div class=\"exercise\"><b>Question 13:</b></div> \n",
    "\n",
    "Note that we are counting bad weather events, so days with higher numbers of events should be considered *bad* weather days.  In the markdown cell below, discuss the distribution of bad weather days."
   ]
  },
  {
   "cell_type": "markdown",
   "metadata": {},
   "source": [
    "The distribution of bad weather is right-skewed"
   ]
  },
  {
   "cell_type": "markdown",
   "metadata": {},
   "source": [
    "<div class=\"exercise\"><b>Task 20: Rating Weather Days</b></div> \n",
    "\n",
    "In the previous task we counted the number of bad weather conditions each day. We are now interested in using the counts to create a *rating system* for the weather.\n",
    "\n",
    "Recall that the number of bad weather conditions ranged from 0 to 9 in the `bad_conditions` column.  Let's create a new (categorical) column called `rating`, where we convert the bad weather counts in the `bad_conditions` column according to the following:\n",
    "\n",
    "    Convert 0 to 'good'\n",
    "    Convert 1 through 4 to 'bad'\n",
    "    Convert 5 through 9 to 'worse'\n",
    "\n",
    "In the code cell below, write Python code to do the following.<br>\n",
    "\n",
    "- Create a dictionary called `mapping` that maps the `bad_conditions` integers to the specified strings (this has been done for you).\n",
    "- Convert the `bad_conditions` integers to strings using the mapping (by passing `mapping` into the `map()` method applied to the `bad_conditions` column, and store the results in a new column called `rating`.\n",
    "- Count the unique values in `rating` (this has been done for you).\n",
    "\n",
    "The output from my solution is as follows:<br>\n",
    "\n",
    "<code>\n",
    "bad      1836\n",
    "good     1749\n",
    "worse     432\n",
    "Name: rating, dtype: int64\n",
    "</code>"
   ]
  },
  {
   "cell_type": "code",
   "execution_count": 25,
   "metadata": {},
   "outputs": [
    {
     "name": "stdout",
     "output_type": "stream",
     "text": [
      "bad      1836\n",
      "good     1749\n",
      "worse     432\n",
      "Name: rating, dtype: int64\n"
     ]
    }
   ],
   "source": [
    "import pandas as pd\n",
    "\n",
    "# Create a dictionary that maps integers to strings\n",
    "mapping = {0: 'good', 1: 'bad', 2: 'bad', 3: 'bad', 4: 'bad', 5: 'worse', \n",
    "           6: 'worse', 7: 'worse', 8: 'worse', 9: 'worse'}\n",
    "\n",
    "# Convert the 'bad_conditions' integers to strings using the 'mapping'\n",
    "weather['rating'] = weather['bad_conditions'].map(mapping)\n",
    "\n",
    "\n",
    "# Count the unique values in 'rating'\n",
    "print(weather['rating'].value_counts())"
   ]
  },
  {
   "cell_type": "markdown",
   "metadata": {},
   "source": [
    "**Changing the Data Type to Category** Note that we created the `rating` column to represent a categorical variable for rating the weather.  Let's change its data type to `category` in order to store the data more efficiently. We can also specify a *logical order* for the categories, which we will find useful shortly.\n",
    "\n",
    "Take a few minutes and read about Pandas *categorical* data type [here](https://pandas.pydata.org/docs/user_guide/categorical.html).\n",
    "\n",
    "In the code cell below, we do the following (**the code has been written for you):\n",
    "\n",
    "- First, we create a list object called `cats` that lists the weather ratings in a logical order: `'good'`, `'bad'`, `'worse'`.\n",
    "- Second, we change the data type of the `rating` column from object to `category`, making sure to use the `cats` list to define the category ordering.\n",
    "- Finally, we examine the last ten rows of the `bad_conditions` and `rating` columns to confirm that the categories are logically ordered.\n",
    "\n",
    "**Please study the code cell below carefully, being sure that understand it, and then run it.**"
   ]
  },
  {
   "cell_type": "code",
   "execution_count": 26,
   "metadata": {},
   "outputs": [
    {
     "name": "stdout",
     "output_type": "stream",
     "text": [
      "      bad_conditions rating\n",
      "4007               1    bad\n",
      "4008               2    bad\n",
      "4009               2    bad\n",
      "4010               2    bad\n",
      "4011               0   good\n",
      "4012               1    bad\n",
      "4013               0   good\n",
      "4014               3    bad\n",
      "4015               2    bad\n",
      "4016               1    bad\n"
     ]
    }
   ],
   "source": [
    "# Create a list of weather ratings in logical order\n",
    "cats = ['good', 'bad', 'worse']\n",
    "\n",
    "# Change the data type of 'rating' to category\n",
    "weather['rating'] = pd.Categorical(weather['rating'], categories=cats, ordered=True)\n",
    "\n",
    "# Examine the head of 'rating'\n",
    "print(weather[['bad_conditions','rating']].tail(10))"
   ]
  },
  {
   "cell_type": "markdown",
   "metadata": {},
   "source": [
    "<div class=\"exercise\"><b>Task 21: Preparing to Merge the Data Frames</b></div> \n",
    "\n",
    "Before we can determine if weather conditions have an impact on police behavior, we need to merge our `traffic` and `weather` data frames.  In this task we will prepare the data frames to be merged.\n",
    "\n",
    "In the code cell below, do the following:\n",
    "\n",
    "- Move the `stop_datetime` index of `traffic` to a column.  We do this because the index will be lost during the merge, and this will allow us to preserve it (this has been done for you).\n",
    "- Create a new data frame called `weather_rating` that contains just the `DATE` and `rating` columns of `weather`.\n",
    "- Print the head of the new `weather_rating` data frame.\n",
    "\n",
    "The output from my solution is as follows:<br>\n",
    "\n",
    "<code>\n",
    "         DATE rating\n",
    "0  2005-01-01    bad\n",
    "1  2005-01-02    bad\n",
    "2  2005-01-03    bad\n",
    "3  2005-01-04    bad\n",
    "4  2005-01-05    bad\n",
    "</code>"
   ]
  },
  {
   "cell_type": "code",
   "execution_count": 27,
   "metadata": {},
   "outputs": [
    {
     "data": {
      "text/html": [
       "<div>\n",
       "<style scoped>\n",
       "    .dataframe tbody tr th:only-of-type {\n",
       "        vertical-align: middle;\n",
       "    }\n",
       "\n",
       "    .dataframe tbody tr th {\n",
       "        vertical-align: top;\n",
       "    }\n",
       "\n",
       "    .dataframe thead th {\n",
       "        text-align: right;\n",
       "    }\n",
       "</style>\n",
       "<table border=\"1\" class=\"dataframe\">\n",
       "  <thead>\n",
       "    <tr style=\"text-align: right;\">\n",
       "      <th></th>\n",
       "      <th>DATE</th>\n",
       "      <th>rating</th>\n",
       "    </tr>\n",
       "  </thead>\n",
       "  <tbody>\n",
       "    <tr>\n",
       "      <th>0</th>\n",
       "      <td>2005-01-01</td>\n",
       "      <td>bad</td>\n",
       "    </tr>\n",
       "    <tr>\n",
       "      <th>1</th>\n",
       "      <td>2005-01-02</td>\n",
       "      <td>bad</td>\n",
       "    </tr>\n",
       "    <tr>\n",
       "      <th>2</th>\n",
       "      <td>2005-01-03</td>\n",
       "      <td>bad</td>\n",
       "    </tr>\n",
       "    <tr>\n",
       "      <th>3</th>\n",
       "      <td>2005-01-04</td>\n",
       "      <td>bad</td>\n",
       "    </tr>\n",
       "    <tr>\n",
       "      <th>4</th>\n",
       "      <td>2005-01-05</td>\n",
       "      <td>bad</td>\n",
       "    </tr>\n",
       "  </tbody>\n",
       "</table>\n",
       "</div>"
      ],
      "text/plain": [
       "         DATE rating\n",
       "0  2005-01-01    bad\n",
       "1  2005-01-02    bad\n",
       "2  2005-01-03    bad\n",
       "3  2005-01-04    bad\n",
       "4  2005-01-05    bad"
      ]
     },
     "execution_count": 27,
     "metadata": {},
     "output_type": "execute_result"
    }
   ],
   "source": [
    "# Reset the index of 'traffic'\n",
    "traffic.reset_index(inplace=True)\n",
    "\n",
    "# Create a DataFrame called 'weather_rating' from the 'DATE' and 'rating' columns\n",
    "#  Your code here...\n",
    "weather_rating = weather[['DATE', 'rating']].copy()\n",
    "\n",
    "# Examine the head of 'weather_rating'\n",
    "#  Your code here...\n",
    "weather_rating.head()\n"
   ]
  },
  {
   "cell_type": "markdown",
   "metadata": {},
   "source": [
    "<div class=\"exercise\"><b>Task 22: Merging the Data Frames</b></div> \n",
    "\n",
    "We are now ready to merge the `traffic` and `weather_rating` data frames. The data frames will be joined using the `stop_date` column from `traffic` and the `DATE` column from `weather_rating`. Thankfully, the date formatting matches exactly, which is not always the case!\n",
    "\n",
    "Take a few minutes and read the following article [here](https://www.shanelynn.ie/merge-join-dataframes-python-pandas-index-1/).  In particular, you should read about using `left_on` and `right_on` to merge data frames with *different column names*, which is not something we covered in the notes.**Be sure to read this article before moving on!**\n",
    "\n",
    "In the code cell below, do the following:\n",
    "\n",
    "- Merge the `traffic` and `weather_rating` data frames with left join, using the `stop_date` column from `traffic` and the `DATE` column from `weather_rating`.  Since the column names do not match, you will need to use the `left_on` and `right_on` parameters (see article above).  Name the new data frame `traffic_weather`. \n",
    "- Replace the index of `traffic_weather` with the `stop_datetime` column (this has been done for you).\n",
    "- Print the first 5 rows of the just the `stop_date`,`DATE`, and `rating` columns of `traffic_weather`.  Then verify that the dates of the merged dataframes appear to line up correctly and that `stop_datetime` is now the index.\n",
    "- Print the shape of `traffic_weather` to verify the size.\n",
    "\n",
    "The output from my solution is as follows--make sure your output is similar:<br>\n",
    "\n",
    "<code>\n",
    "                      stop_date        DATE rating\n",
    "stop_datetime                                     \n",
    "2005-01-04 12:55:00  2005-01-04  2005-01-04    bad\n",
    "2005-01-23 23:15:00  2005-01-23  2005-01-23  worse\n",
    "2005-02-17 04:15:00  2005-02-17  2005-02-17   good\n",
    "2005-02-20 17:15:00  2005-02-20  2005-02-20    bad\n",
    "2005-02-24 01:20:00  2005-02-24  2005-02-24    bad\n",
    "\n",
    "The shape of the data frame is (86536, 17)\n",
    "</code>"
   ]
  },
  {
   "cell_type": "code",
   "execution_count": 30,
   "metadata": {},
   "outputs": [
    {
     "name": "stdout",
     "output_type": "stream",
     "text": [
      "                      stop_date        DATE\n",
      "stop_datetime                              \n",
      "2005-01-04 12:55:00  2005-01-04  2005-01-04\n",
      "2005-01-23 23:15:00  2005-01-23  2005-01-23\n",
      "2005-02-17 04:15:00  2005-02-17  2005-02-17\n",
      "2005-02-20 17:15:00  2005-02-20  2005-02-20\n",
      "2005-02-24 01:20:00  2005-02-24  2005-02-24\n",
      "The shape of the data frame is  (86536, 17)\n"
     ]
    }
   ],
   "source": [
    "# Merge 'traffic' and 'weather_rating' using a left join\n",
    "#  Your code here...\n",
    "traffic_weather = pd.merge(traffic, weather_rating, left_on='stop_date', right_on='DATE', how='left')\n",
    "\n",
    "# Set 'stop_datetime' as the index of 'traffic_weather'\n",
    "traffic_weather.set_index('stop_datetime', inplace=True)\n",
    "\n",
    "# Print the head of 'traffic_weather'\n",
    "#  Your code here...\n",
    "print(traffic_weather[['stop_date', 'DATE']].head())\n",
    "\n",
    "# Examine the shape of 'traffic_weather'\n",
    "#  Your code here...\n",
    "print('The shape of the data frame is ', traffic_weather.shape)"
   ]
  },
  {
   "cell_type": "markdown",
   "metadata": {},
   "source": [
    "<div class=\"exercise\"><b>Task 23: Comparing Arrest Rates by Weather Rating</b></div> \n",
    "\n",
    "We are finally ready to examine if police officers arrest drivers more often when the weather is bad.\n",
    "\n",
    "In the code cell below, we compute the arrest rate for each combination of violation and weather rating.  This is accomplished with a *group by* operation using both `violation` and `rating` as factors and computing the mean of the `is_arrested` column.\n",
    "\n",
    "**Please study the code cell below carefully, being sure to understand the code, and then run it.**"
   ]
  },
  {
   "cell_type": "code",
   "execution_count": 31,
   "metadata": {},
   "outputs": [
    {
     "name": "stdout",
     "output_type": "stream",
     "text": [
      "violation            rating\n",
      "Equipment            good      0.059007\n",
      "                     bad       0.066311\n",
      "                     worse     0.097357\n",
      "Moving violation     good      0.056227\n",
      "                     bad       0.058050\n",
      "                     worse     0.065860\n",
      "Other                good      0.076966\n",
      "                     bad       0.087443\n",
      "                     worse     0.062893\n",
      "Registration/plates  good      0.081574\n",
      "                     bad       0.098160\n",
      "                     worse     0.115625\n",
      "Seat belt            good      0.028587\n",
      "                     bad       0.022493\n",
      "                     worse     0.000000\n",
      "Speeding             good      0.013405\n",
      "                     bad       0.013314\n",
      "                     worse     0.016886\n",
      "Name: is_arrested, dtype: float64\n"
     ]
    }
   ],
   "source": [
    "# Save the output of the groupby operation from the last exercise\n",
    "arrest_rate = traffic_weather.groupby(['violation', 'rating']).is_arrested.mean()\n",
    "print(arrest_rate)"
   ]
  },
  {
   "cell_type": "markdown",
   "metadata": {},
   "source": [
    "<div class=\"exercise\"><b>Task 24: Reshaping the Arrest Data</b></div> \n",
    "\n",
    "First, note that since we previously defined a logical order for the weather categories, `good < bad < worse`, our results were sorted in that way.\n",
    "\n",
    "Second, note that the output of the single `.groupby()` operation on multiple columns is a `Series` with a `MultiIndex`.  Specifically, the `arrest_rate` object from the last task is a `MultiIndex` `Series`.\n",
    "\n",
    "Let's *reshape* `arrest_rate` into a data frame.  This is a useful step when working with any multi-indexed `Series`, since it enables you to access the full range of data frame methods.\n",
    "\n",
    "Take a few minutes to read about stacking and unstacking data frames [here](https://www.datasciencemadesimple.com/reshape-using-stack-unstack-function-pandas-python/).  **Do not move on until you have carefully read the article**.\n",
    "\n",
    "In the code cell below, do the following:\n",
    "\n",
    "- Create a new data frame called `arrest_rate_df` by using the `unstack()` method of the `arrest_rate` .\n",
    "- Print `arrest_rate_df`.\n",
    "\n",
    "The output from my solution is as follows<br>\n",
    "\n",
    "<code>\n",
    "rating                   good       bad     worse\n",
    "violation                                        \n",
    "Equipment            0.059007  0.066311  0.097357\n",
    "Moving violation     0.056227  0.058050  0.065860\n",
    "Other                0.076966  0.087443  0.062893\n",
    "Registration/plates  0.081574  0.098160  0.115625\n",
    "Seat belt            0.028587  0.022493  0.000000\n",
    "Speeding             0.013405  0.013314  0.016886\n",
    "</code>"
   ]
  },
  {
   "cell_type": "code",
   "execution_count": 32,
   "metadata": {},
   "outputs": [
    {
     "name": "stdout",
     "output_type": "stream",
     "text": [
      "rating                   good       bad     worse\n",
      "violation                                        \n",
      "Equipment            0.059007  0.066311  0.097357\n",
      "Moving violation     0.056227  0.058050  0.065860\n",
      "Other                0.076966  0.087443  0.062893\n",
      "Registration/plates  0.081574  0.098160  0.115625\n",
      "Seat belt            0.028587  0.022493  0.000000\n",
      "Speeding             0.013405  0.013314  0.016886\n"
     ]
    }
   ],
   "source": [
    "arrest_rate_df = arrest_rate.unstack()\n",
    "print(arrest_rate_df)"
   ]
  },
  {
   "cell_type": "markdown",
   "metadata": {},
   "source": [
    "<div class=\"exercise\"><b>Question 14:</b></div> \n",
    "\n",
    "In the markdown cell below, answer the following questions.\n",
    "\n",
    "1. Do the arrest rates for the various violations appear to depend on the weather conditions?  \n",
    "1. In particular, does the arrest rate increase as the weather gets worse?  Explain. \n",
    "1. Try to speculate as to why we see this trend."
   ]
  },
  {
   "cell_type": "markdown",
   "metadata": {},
   "source": [
    "1. It does not depend on weather conditions, since most of the percentage between good, bad and worse weather condition are close, and most only by less than 10%\n",
    "\n",
    "2. The arrest rate increase in the category Equipment, Moving violation, Registration/plates. For other categories, that is not the case. \n",
    "\n",
    "3. The arrest rates for certain violations, such as Equipment, Moving violation, and Registration/plates, tend to increase as weather conditions worsen, possibly due to decrease in road visibility during bad and worse weather (rain, fog, snow, etc.). However, the dependency on weather conditions varies across different violation categories."
   ]
  },
  {
   "cell_type": "code",
   "execution_count": null,
   "metadata": {},
   "outputs": [],
   "source": []
  }
 ],
 "metadata": {
  "celltoolbar": "Raw Cell Format",
  "kernelspec": {
   "display_name": "Python 3 (ipykernel)",
   "language": "python",
   "name": "python3"
  },
  "language_info": {
   "codemirror_mode": {
    "name": "ipython",
    "version": 3
   },
   "file_extension": ".py",
   "mimetype": "text/x-python",
   "name": "python",
   "nbconvert_exporter": "python",
   "pygments_lexer": "ipython3",
   "version": "3.10.9"
  }
 },
 "nbformat": 4,
 "nbformat_minor": 2
}
